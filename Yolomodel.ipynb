from functools import wraps
import numpy as np
import tensorflow as tf
from keras import backend as K
from keras.layers import Conv2D, Add, ZeroPadding2D, UpSampling2D, Concatenate, MaxPooling2D
from keras.layers.advanced_activations import LeakyReLU
from keras.layers.normalization import BatchNormalization
from keras.models import Model
from keras.regularizers import l2
import os

def combine(*funcs):
    if funcs:
        return reduce(lambda f, g: lambda *args, **kwargs: g(f(*args, **kwargs)), funcs)
    else:
        raise ValueError('Invalid Composition.')


@wraps(Conv2D)
#wrapper to apply darknet parameters for conv2D
def Darknet_Conv2D(*args,**kwargs):
    darknetKwargs = {'kernel_regularizer': l2(5e-4)}
    if kwargs.get('strides') == (2,2):
        darknetKwargs['padding'] = 'valid'
    else :
        darknetKwargs['padding'] = 'same'
    darknetKwargs.update(kwargs)
    return Conv2D(*args,**darknetKwargs)

#darknet conv2D with batch normalization and leaky relu
def Darknet_Conv2D_Leaky(*args,**kwargs):
    kwargsWithoutBias = {'use_bias' : False}
    kwargsWithoutBias.update(kwargs)
    return combine(
          Darknet_Conv2D(*args,**kwargsWithoutBias)
          BatchNormalization()
          LeakyReLU(alpha=0.1)
    )

#res blocks
def resblock(X,number_of_filters,number_of_blocks):
    X = ZeroPadding2D((1,0),(1,0))(x)
    X = Darknet_Conv2D_Leaky(number_of_filters,(3,3), strides = (2,2))(X)
    #add required number of blocks
    for vals in range(number_fo_blocks):
        x = combine(
                Darknet_Conv2D_Leaky(number_of_filters//2, (1,1)),
                Darknet_Conv2D_Leaky(number_of__filters, (3,3)))(X)
        X = Add()([X,x])
    return X

#darknet middle layer or body
def darknet_body(X):
    X = Darknet_Conv2D_Leaky(32, (3,3))(X)
    X = resblock_body(X, 64, 1)
    X = resblock_body(X, 128, 2)
    X = resblock_body(X, 256, 8)
    X = resblock_body(X, 512, 8)
    X = resblock_body(X, 1024, 4)
    return X

#darknet final layers or tail
def darknet_tail(X,number_of_filters,output_filters):
    X = compose(
            Darknet_Conv2D_Leaky(number_of_filters, (1,1)),
            Darknet_Conv2D_Leaky(number_of_filters*2, (3,3)),
            Darknet_Conv2D_Leaky(number_of_filters, (1,1)),
            Darknet_Conv2D_Leaky(number_of_filters*2, (3,3)),
            Darknet_Conv2D_Leaky(number_of_filters, (1,1)))(X)
    Y = combine(
            Darknet_Conv2D_Leaky(number_of_filters*2, (3,3)),
            DarknetConv2D(output_filters, (1,1)))(X)
    return X, Y

#yolov3 model
def yolo_body(inputs, number_of_anchors, number_of_classes):
    darknet = Model(inputs, darknet_body(inputs))
    X, y = make_last_layers(darknet.output, 512, number_of_anchors*(number_of_classes+5))

    X = combine(
            Darknet_Conv2D_Leaky(256, (1,1)),
            UpSampling2D(2))(X)
    X = Concatenate()([x,darknet.layers[152].output])
    X, y2 = darknet_tail(x, 256, number_of_anchors*(number_of_classes+5))

    X = combine(
            Darknet_Conv2D_Leaky(128, (1,1)),
            UpSampling2D(2))(X)
    X = Concatenate()([X,darknet.layers[92].output])
    X, y3 = darknet_tail(X, 128, number_of_anchors*(number_of_classes+5))

    return Model(inputs, [y1,y2,y3])
