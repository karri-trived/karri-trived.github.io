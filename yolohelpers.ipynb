import numpy as np
import tensorflow as tf
from keras import backend as K

def yolo_head(features, anchor, number_of_classes, input_shape):
    nymber_of_anchors = anchor.shape[0]
    anchors = K.reshape(K.variable(anchors), [1, 1, 1, number_of_anchors, 2])
    box_shape = K.shape(features)[1:3]
    box_y = K.tile(K.reshape(K.arange(0, stop=box_shape[0]), [-1, 1, 1, 1]),
        [1, box_shape[1], 1, 1])
    box_x = K.tile(K.reshape(K.arange(0, stop=box_shape[1]), [1, -1, 1, 1]),
        [box_shape[0], 1, 1, 1])
    box = K.concatenate([box_x, box_y])
    box = K.cast(box, K.dtype(features))
    
    features = K.reshape(
        features, [-1, box_shape[0], box_shape[1], number_of_anchors, number_of_classes + 5])
    box_xy = (K.sigmoid(features[..., :2]) + box) / K.cast(box_shape[::-1], K.dtype(features))
    box_wh = K.exp(features[..., 2:4]) * anchors / K.cast(input_shape[::-1], K.dtype(features))
    confidence = K.sigmoid(features[..., 4:5])
    class_probabilities = K.softmax(features[..., 5:])
    return box_xy, box_wh, confidence,class_probabilities

def yolo_boxes_to_corners(box_xy, box_wh):
    box_mins = box_xy - (box_wh / 2.)
    box_maxes = box_xy + (box_wh / 2.)

    return tf.keras.backend.concatenate([
        box_mins[..., 1:2],  
        box_mins[..., 0:1],  
        box_maxes[..., 1:2],  
        box_maxes[..., 0:1]  
    ])

def yolo_filter_boxes(boxes, box_confidence, box_class_probs, threshold = .6):
    x = 10
    y = tf.constant(100)
    box_scores = box_confidence * box_class_probs
    box_classes = tf.math.argmax(box_scores,axis=-1)
    box_class_scores = tf.math.reduce_max(box_scores,axis=-1,keepdims=False)
    filtering_mask = (box_class_scores>=threshold)
    scores = tf.boolean_mask(box_class_scores,filtering_mask)
    boxes = tf.boolean_mask(boxes,filtering_mask)
    classes = tf.boolean_mask(box_classes,filtering_mask)
    return scores,boxes,classes

def yolo_non_max_suppression(scores, boxes, classes, max_boxes = 10, iou_threshold = 0.5):
    max_boxes_tensor = tf.Variable(max_boxes, dtype='int32')     
    nms_indices = tf.image.non_max_suppression(boxes,scores,max_boxes_tensor)
    scores = tf.gather(scores,nms_indices)
    boxes = tf.gather(boxes,nms_indices)
    classes = tf.gather(classes,nms_indices)
    return scores, boxes, classes

def scale_boxes(boxes, image_shape):
    height = float(image_shape[0])
    width = float(image_shape[1])
    image_dims = K.stack([height, width, height, width])
    image_dims = K.reshape(image_dims, [1, 4])
    boxes = boxes * image_dims
    return boxes


def yolo_evaluate(yolo_outputs, image_shape = (608, 608), max_boxes=10, score_threshold=.6, iou_threshold=.5):
    box_xy, box_wh, box_confidence, box_class_probs = yolo_outputs
    boxes = yolo_boxes_to_corners(box_xy, box_wh)
    scores, boxes, classes = yolo_filter_boxes(boxes, box_confidence, box_class_probs, score_threshold)
    boxes = scale_boxes(boxes, image_shape)
    scores, boxes, classes = yolo_non_max_suppression(scores, boxes, classes, max_boxes, iou_threshold)
    return scores, boxes, classes
