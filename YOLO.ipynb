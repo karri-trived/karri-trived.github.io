import numpy as np
from keras import backend as K
from keras.models import load_model
from keras.layers import Input
from PIL import Image, ImageFont, ImageDraw
import cv2
from model import yolo_body
from yolohelpers import yolo_evaluate
import 

#from facenet import add,img_to_encoding,recognize
'''
model_json = os.path.expanduser('downloads/model.json')
model_path = os.path.expanduser('downloads/facenet_keras_weights.h5')
json_file = open(model_json, 'r')
loaded_model_json = json_file.read()
json_file.close()
modeL = model_from_json(loaded_model_json)
modeL.load_weights(model_path)
'''
def letterbox_image(image, size):
    iw, ih = image.size
    w, h = size
    scale = min(w/iw, h/ih)
    nw = int(iw*scale)
    nh = int(ih*scale)

    image = image.resize((nw,nh), Image.BICUBIC)
    new_image = Image.new('RGB', size, (128,128,128))
    new_image.paste(image, ((w-nw)//2, (h-nh)//2))
    return new_image

def get_corners(top,left,bottom,right):
    top = max(0, np.floor(top + 0.5).astype('int32'))
    left = max(0, np.floor(left + 0.5).astype('int32'))
    bottom = min(img.size[1], np.floor(bottom + 0.5).astype('int32'))
    right = min(img.size[0], np.floor(right + 0.5).astype('int32'))
    return top,left,bottom,right

class YOLOv3():
     def __init__(self):
         self.anchors = self.anchor()
         self.classes_with_names = =self.class_names()
         self.session = K.get_session()
         self.classes,self.boxes,self.scores = self.get_boxes_classes_and_scores()

     def anchor(self):
         anchors = [10,13,16,30,33,23,30,61,62,45,59,119,116,90,156,198,373,326]
         anchors = np.array(anchors).resize(-1,2)
         return anchors

     def class_names(self):
         return "face"

     def get_boxes_classes_and_scores(self):
       model_path = os.path.expanduser('downloads/wider_face_yolo.h5')
         try:
            self.yolov3model = load_model(model_path, compile=False)
        except:
            self.yolo_model = yolo_body(Input(shape=(None,None,3)), num_anchors//3, num_classes)
            self.yolo_model.load_weights(self.model_path)
         self.shape_of_input = K.placeholder(shape = (2,))
         number_of_classes = len(self.classes_with_names)
         scores, boxes, classes = yolo_evaluate(self.yolov3_model.output,self.shape_of_input)
         return classes,boxes,scores
     def image(self,img):
         box_of_image = letterbox_image(img, tuple(608,608))
         img_parameters = np.array(box_of_image,dtype = 'float32')
         img_parameters /= 255.
         boxes_outputs,scores_outputs,classes_outputs = self.seesion.run(
             [self.boxes,self.classes,self.scores],
             feed_dict = {
                self.yolo_model.input: img_parameters,
                self.input_image_shape: [img.size[1], img.size[0]],
                K.learning_phase(): 0
             }
         )

        font = ImageFont.truetype(font='font/FiraMono-Medium.otf',
                    size=np.floor(3e-2 * img.size[1] + 0.5).astype('int32'))
        thickness = (img.size[0] + img.size[1]) // 300

        for i, cls in reversed(list(enumerate(classes_outputs))):
            predictions = self.classes_with_names[cls]
            box = boxes_outputs[i]
            score = scores_outputs[i]

            label = '{} {:.2f}'.format(predicted_class, score)
            draw = ImageDraw.Draw(img)
            label_size = draw.textsize(label, font)

            top, left, bottom, right = box
            top, left, bottom, right = get_corners(top, left, bottom, right)
            print(label, (left, top), (right, bottom))
            corners = (left, top, right, bottom)
            detected_box = img.crop(area)
            dist,identity = recognize(detected_box,database,FRmodel)
            detected_box = detected_box.resize((8, 8), Image.ANTIALIAS)
            detected_box = detected_box.resize(((right-left),(bottom-top)), Image.ANTIALIAS)
            img.paste(detected_box, (left,top))

            del draw
        return img

def video(yolo, video_path, output_path=""):
    vid = cv2.VideoCapture(video_path)
    if not vid.isOpened():
        raise IOError("Couldn't open webcam or video")
    video_FourCC                =  cv2.VideoWriter_fourcc(*"XVID")
    video_frames_per_ssecond    = vid.get(cv2.CAP_PROP_FPS)
    video_size                  = (int(vid.get(cv2.CAP_PROP_FRAME_WIDTH)),int(vid.get(cv2.CAP_PROP_FRAME_HEIGHT)))
    isOutput = True if output_path != "" else False
    if isOutput:
        print("!!! TYPE:", type(output_path), type(video_FourCC), type(video_frames_per_ssecond ), type(video_size))
        out = cv2.VideoWriter(output_path, video_FourCC, 10, video_size)
    accum_time = 0
    current_frames_per_second = 0
    fps = "FPS: ??"
    previous_time = timer()
    while True:
        res, frame = vid.read()
        if frame is None:
            break
        img = Image.fromarray(frame)
        img = yolo.image(img)
        result = np.asarray(img)
        current_time = timer()
        execution_time = current_time - previous_time
        previous_time = current_time
        accum_time = accum_time + execution_time
        current_frames_per_second += 1
        if accum_time > 1:
            accum_time = accum_time - 1
            fps = "FPS: " + str(current_frames_per_second)
            current_frames_per_second = 0
            out.write(result)
        if cv2.waitKey(1) & 0xFF == ord('q'):
            break
    yolo.close_session()
