import sys
from YOLO import YOLOv3, detect_video
from PIL import Image

detect_video(YOLOv3(**vars(flags)), flags.input, flags.output)
